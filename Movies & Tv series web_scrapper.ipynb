{
 "cells": [
  {
   "cell_type": "code",
   "execution_count": 1,
   "metadata": {},
   "outputs": [],
   "source": [
    "import pandas as pd\n",
    "from selenium import webdriver"
   ]
  },
  {
   "cell_type": "code",
   "execution_count": 2,
   "metadata": {},
   "outputs": [
    {
     "ename": "NoSuchWindowException",
     "evalue": "Message: no such window: target window already closed\nfrom unknown error: web view not found\n  (Session info: MicrosoftEdge=121.0.2277.83)\nStacktrace:\n\tGetHandleVerifier [0x00007FF7C83CAD02+60770]\n\tMicrosoft::Applications::Events::ILogConfiguration::operator* [0x00007FF7C83584B2+228274]\n\t(No symbol) [0x00007FF7C816ADBB]\n\t(No symbol) [0x00007FF7C81422BD]\n\t(No symbol) [0x00007FF7C81E3091]\n\t(No symbol) [0x00007FF7C81F8BC3]\n\t(No symbol) [0x00007FF7C81DC143]\n\t(No symbol) [0x00007FF7C81AD4A8]\n\t(No symbol) [0x00007FF7C81AC317]\n\t(No symbol) [0x00007FF7C81AD041]\n\tMicrosoft::Applications::Events::EventProperty::to_string [0x00007FF7C857B47C+1039884]\n\t(No symbol) [0x00007FF7C8230D65]\n\tMicrosoft::Applications::Events::EventProperty::~EventProperty [0x00007FF7C82CA82C+36956]\n\tMicrosoft::Applications::Events::EventProperty::~EventProperty [0x00007FF7C82C2352+2946]\n\tMicrosoft::Applications::Events::EventProperty::to_string [0x00007FF7C8579EC3+1034323]\n\tMicrosoft::Applications::Events::ILogConfiguration::operator* [0x00007FF7C8362418+269080]\n\tMicrosoft::Applications::Events::ILogConfiguration::operator* [0x00007FF7C835D0F4+247796]\n\tMicrosoft::Applications::Events::ILogConfiguration::operator* [0x00007FF7C835D222+248098]\n\tMicrosoft::Applications::Events::ILogConfiguration::operator* [0x00007FF7C8353911+208913]\n\tBaseThreadInitThunk [0x00007FFFC6F67344+20]\n\tRtlUserThreadStart [0x00007FFFC8C826B1+33]\n",
     "output_type": "error",
     "traceback": [
      "\u001b[1;31m---------------------------------------------------------------------------\u001b[0m",
      "\u001b[1;31mNoSuchWindowException\u001b[0m                     Traceback (most recent call last)",
      "Cell \u001b[1;32mIn[2], line 22\u001b[0m\n\u001b[0;32m     19\u001b[0m     \u001b[38;5;28;01mexcept\u001b[39;00m:\n\u001b[0;32m     20\u001b[0m         \u001b[38;5;28;01mreturn\u001b[39;00m \u001b[38;5;28;01mNone\u001b[39;00m\n\u001b[1;32m---> 22\u001b[0m elements \u001b[38;5;241m=\u001b[39m \u001b[43mbrowser\u001b[49m\u001b[38;5;241;43m.\u001b[39;49m\u001b[43mfind_elements\u001b[49m\u001b[43m(\u001b[49m\u001b[38;5;124;43m\"\u001b[39;49m\u001b[38;5;124;43mxpath\u001b[39;49m\u001b[38;5;124;43m\"\u001b[39;49m\u001b[43m,\u001b[49m\u001b[38;5;124;43m\"\u001b[39;49m\u001b[38;5;124;43m//ul[contains(@class, \u001b[39;49m\u001b[38;5;124;43m'\u001b[39;49m\u001b[38;5;124;43mipc-metadata-list\u001b[39;49m\u001b[38;5;124;43m'\u001b[39;49m\u001b[38;5;124;43m)]/li\u001b[39;49m\u001b[38;5;124;43m\"\u001b[39;49m\u001b[43m)\u001b[49m\n\u001b[0;32m     23\u001b[0m \u001b[38;5;28mprint\u001b[39m(\u001b[38;5;28mlen\u001b[39m(elements))\n\u001b[0;32m     24\u001b[0m movies \u001b[38;5;241m=\u001b[39m []\n",
      "File \u001b[1;32mc:\\Users\\Mahmoud\\AppData\\Local\\Programs\\Python\\Python312\\Lib\\site-packages\\selenium\\webdriver\\remote\\webdriver.py:772\u001b[0m, in \u001b[0;36mWebDriver.find_elements\u001b[1;34m(self, by, value)\u001b[0m\n\u001b[0;32m    768\u001b[0m     value \u001b[38;5;241m=\u001b[39m \u001b[38;5;124mf\u001b[39m\u001b[38;5;124m'\u001b[39m\u001b[38;5;124m[name=\u001b[39m\u001b[38;5;124m\"\u001b[39m\u001b[38;5;132;01m{\u001b[39;00mvalue\u001b[38;5;132;01m}\u001b[39;00m\u001b[38;5;124m\"\u001b[39m\u001b[38;5;124m]\u001b[39m\u001b[38;5;124m'\u001b[39m\n\u001b[0;32m    770\u001b[0m \u001b[38;5;66;03m# Return empty list if driver returns null\u001b[39;00m\n\u001b[0;32m    771\u001b[0m \u001b[38;5;66;03m# See https://github.com/SeleniumHQ/selenium/issues/4555\u001b[39;00m\n\u001b[1;32m--> 772\u001b[0m \u001b[38;5;28;01mreturn\u001b[39;00m \u001b[38;5;28;43mself\u001b[39;49m\u001b[38;5;241;43m.\u001b[39;49m\u001b[43mexecute\u001b[49m\u001b[43m(\u001b[49m\u001b[43mCommand\u001b[49m\u001b[38;5;241;43m.\u001b[39;49m\u001b[43mFIND_ELEMENTS\u001b[49m\u001b[43m,\u001b[49m\u001b[43m \u001b[49m\u001b[43m{\u001b[49m\u001b[38;5;124;43m\"\u001b[39;49m\u001b[38;5;124;43musing\u001b[39;49m\u001b[38;5;124;43m\"\u001b[39;49m\u001b[43m:\u001b[49m\u001b[43m \u001b[49m\u001b[43mby\u001b[49m\u001b[43m,\u001b[49m\u001b[43m \u001b[49m\u001b[38;5;124;43m\"\u001b[39;49m\u001b[38;5;124;43mvalue\u001b[39;49m\u001b[38;5;124;43m\"\u001b[39;49m\u001b[43m:\u001b[49m\u001b[43m \u001b[49m\u001b[43mvalue\u001b[49m\u001b[43m}\u001b[49m\u001b[43m)\u001b[49m[\u001b[38;5;124m\"\u001b[39m\u001b[38;5;124mvalue\u001b[39m\u001b[38;5;124m\"\u001b[39m] \u001b[38;5;129;01mor\u001b[39;00m []\n",
      "File \u001b[1;32mc:\\Users\\Mahmoud\\AppData\\Local\\Programs\\Python\\Python312\\Lib\\site-packages\\selenium\\webdriver\\remote\\webdriver.py:348\u001b[0m, in \u001b[0;36mWebDriver.execute\u001b[1;34m(self, driver_command, params)\u001b[0m\n\u001b[0;32m    346\u001b[0m response \u001b[38;5;241m=\u001b[39m \u001b[38;5;28mself\u001b[39m\u001b[38;5;241m.\u001b[39mcommand_executor\u001b[38;5;241m.\u001b[39mexecute(driver_command, params)\n\u001b[0;32m    347\u001b[0m \u001b[38;5;28;01mif\u001b[39;00m response:\n\u001b[1;32m--> 348\u001b[0m     \u001b[38;5;28;43mself\u001b[39;49m\u001b[38;5;241;43m.\u001b[39;49m\u001b[43merror_handler\u001b[49m\u001b[38;5;241;43m.\u001b[39;49m\u001b[43mcheck_response\u001b[49m\u001b[43m(\u001b[49m\u001b[43mresponse\u001b[49m\u001b[43m)\u001b[49m\n\u001b[0;32m    349\u001b[0m     response[\u001b[38;5;124m\"\u001b[39m\u001b[38;5;124mvalue\u001b[39m\u001b[38;5;124m\"\u001b[39m] \u001b[38;5;241m=\u001b[39m \u001b[38;5;28mself\u001b[39m\u001b[38;5;241m.\u001b[39m_unwrap_value(response\u001b[38;5;241m.\u001b[39mget(\u001b[38;5;124m\"\u001b[39m\u001b[38;5;124mvalue\u001b[39m\u001b[38;5;124m\"\u001b[39m, \u001b[38;5;28;01mNone\u001b[39;00m))\n\u001b[0;32m    350\u001b[0m     \u001b[38;5;28;01mreturn\u001b[39;00m response\n",
      "File \u001b[1;32mc:\\Users\\Mahmoud\\AppData\\Local\\Programs\\Python\\Python312\\Lib\\site-packages\\selenium\\webdriver\\remote\\errorhandler.py:229\u001b[0m, in \u001b[0;36mErrorHandler.check_response\u001b[1;34m(self, response)\u001b[0m\n\u001b[0;32m    227\u001b[0m         alert_text \u001b[38;5;241m=\u001b[39m value[\u001b[38;5;124m\"\u001b[39m\u001b[38;5;124malert\u001b[39m\u001b[38;5;124m\"\u001b[39m]\u001b[38;5;241m.\u001b[39mget(\u001b[38;5;124m\"\u001b[39m\u001b[38;5;124mtext\u001b[39m\u001b[38;5;124m\"\u001b[39m)\n\u001b[0;32m    228\u001b[0m     \u001b[38;5;28;01mraise\u001b[39;00m exception_class(message, screen, stacktrace, alert_text)  \u001b[38;5;66;03m# type: ignore[call-arg]  # mypy is not smart enough here\u001b[39;00m\n\u001b[1;32m--> 229\u001b[0m \u001b[38;5;28;01mraise\u001b[39;00m exception_class(message, screen, stacktrace)\n",
      "\u001b[1;31mNoSuchWindowException\u001b[0m: Message: no such window: target window already closed\nfrom unknown error: web view not found\n  (Session info: MicrosoftEdge=121.0.2277.83)\nStacktrace:\n\tGetHandleVerifier [0x00007FF7C83CAD02+60770]\n\tMicrosoft::Applications::Events::ILogConfiguration::operator* [0x00007FF7C83584B2+228274]\n\t(No symbol) [0x00007FF7C816ADBB]\n\t(No symbol) [0x00007FF7C81422BD]\n\t(No symbol) [0x00007FF7C81E3091]\n\t(No symbol) [0x00007FF7C81F8BC3]\n\t(No symbol) [0x00007FF7C81DC143]\n\t(No symbol) [0x00007FF7C81AD4A8]\n\t(No symbol) [0x00007FF7C81AC317]\n\t(No symbol) [0x00007FF7C81AD041]\n\tMicrosoft::Applications::Events::EventProperty::to_string [0x00007FF7C857B47C+1039884]\n\t(No symbol) [0x00007FF7C8230D65]\n\tMicrosoft::Applications::Events::EventProperty::~EventProperty [0x00007FF7C82CA82C+36956]\n\tMicrosoft::Applications::Events::EventProperty::~EventProperty [0x00007FF7C82C2352+2946]\n\tMicrosoft::Applications::Events::EventProperty::to_string [0x00007FF7C8579EC3+1034323]\n\tMicrosoft::Applications::Events::ILogConfiguration::operator* [0x00007FF7C8362418+269080]\n\tMicrosoft::Applications::Events::ILogConfiguration::operator* [0x00007FF7C835D0F4+247796]\n\tMicrosoft::Applications::Events::ILogConfiguration::operator* [0x00007FF7C835D222+248098]\n\tMicrosoft::Applications::Events::ILogConfiguration::operator* [0x00007FF7C8353911+208913]\n\tBaseThreadInitThunk [0x00007FFFC6F67344+20]\n\tRtlUserThreadStart [0x00007FFFC8C826B1+33]\n"
     ]
    }
   ],
   "source": [
    "options = webdriver.EdgeOptions()\n",
    "options.add_experimental_option(\n",
    "    \"prefs\", {\n",
    "        # block image loading\n",
    "        \"profile.managed_default_content_settings.images\": 2,\n",
    "    }\n",
    ")\n",
    "\n",
    "browser = webdriver.Edge(options=options)\n",
    "\n",
    "browser.get('https://www.imdb.com/search/title/?title_type=feature,tv_movie&user_rating=6,10&sort=user_rating,desc&num_votes=50000,')\n",
    "\n",
    "pagination_btn = browser.find_element(\"xpath\",\"//div[contains(@class,'pagination-container')]//button\")\n",
    "for _ in range(300):\n",
    "    # browser.execute_script(\"window.scrollTo(0, document.body.scrollHeight);\")\n",
    "    try:\n",
    "        browser.execute_script(\"arguments[0].scrollIntoView();\", pagination_btn)\n",
    "        pagination_btn.click()\n",
    "        browser.execute_script(\"arguments[0].scrollIntoView();\", pagination_btn)\n",
    "    except:\n",
    "        browser.implicitly_wait(10)\n",
    "        \n",
    "\n",
    "def get_data(xpath, element=browser):\n",
    "    try:\n",
    "        return element.find_element(\"xpath\",xpath).text\n",
    "    except:\n",
    "        return None\n",
    "\n",
    "elements = browser.find_elements(\"xpath\",\"//ul[contains(@class, 'ipc-metadata-list')]/li\")\n",
    "print(len(elements))\n",
    "movies = []\n",
    "\n",
    "for element in elements:\n",
    "    try:\n",
    "        movies.append({\n",
    "            \"link\": element.find_element(\"xpath\",\".//a[contains(@class, 'ipc-title-link-wrapper')]\").get_attribute(\"href\"),\n",
    "            \"description\": get_data(\".//div[@class='ipc-html-content-inner-div']\",element),\n",
    "            \"rating\":get_data(\".//span[contains(@class,'ipc-rating-star--imdb')]\",element).split(\" \")[0].strip(),\n",
    "            \"votes\": get_data(\".//div[contains(@class,'dli-plot-container')]/following-sibling::div\",element).replace(\"Votes\",\"\"),\n",
    "            \"year\": get_data(\".//div[contains(@class,'dli-title-metadata')]/span[1]\",element),\n",
    "            \"duration\": get_data(\".//div[contains(@class,'dli-title-metadata')]/span[2]\",element),\n",
    "            \"certificate\": get_data(\".//div[contains(@class,'dli-title-metadata')]/span[3]\",element),\n",
    "            \"meta_score\": get_data(\".//span[contains(@class,'metacritic-score-box')]\",element),\n",
    "        })\n",
    "        print(\"Movies count:\",len(movies))\n",
    "    except:\n",
    "        pass\n",
    "\n",
    "for movie in movies:\n",
    "    try:\n",
    "        browser.get(movie[\"link\"])\n",
    "        expand_btn = browser.find_element(\"xpath\",\"//button[@data-testid='title-pc-expand-more-button']\")\n",
    "        while True:\n",
    "            try:\n",
    "                expand_btn.click()\n",
    "                break\n",
    "            except:\n",
    "                pass  \n",
    "        movie[\"title\"] = get_data(\"//h1\")\n",
    "        print(movie[\"title\"])\n",
    "        movie[\"type\"] = 'Movie'\n",
    "        movie[\"popularity\"] = get_data(\"//div[1]/div[1]/div[3]/a[1]/span[1]/div[1]/div[2]/div[1]\")\n",
    "        movie[\"genre\"] = \",\".join([genre.text for genre in browser.find_elements(\"xpath\",\"//div[@data-testid='genres']//a\")])\n",
    "        movie[\"director\"] = \",\".join([director.text for director in browser.find_elements(\"xpath\",\"//div[1]/div[1]/ul[1]/li[1]/div[1]//li/a\")])\n",
    "        movie[\"writer\"] = \",\".join([writer.text for writer in browser.find_elements(\"xpath\",\"//div[1]/div[1]/ul[1]/li[2]/div[1]//li/a\")])\n",
    "        movie[\"stars\"] = \",\".join([star.text for star in browser.find_elements(\"xpath\",\"//div[1]/div[1]/ul[1]/li[3]/div[1]//li/a\")])\n",
    "        movie[\"country\"] = \",\".join([country.text for country in browser.find_elements(\"xpath\",\"//li[@data-testid='title-details-origin']/div/ul/li\")])\n",
    "        movie[\"language\"] = \",\".join([language.text for language in browser.find_elements(\"xpath\",\"//li[@data-testid='title-details-languages']/div/ul/li\")])\n",
    "        movie[\"production_company\"] = \",\".join([production_company.text for production_company in browser.find_elements(\"xpath\",\"//li[@data-testid='title-details-companies']/div/ul/li\")])\n",
    "        movie[\"worldwide_gross\"] = get_data(\"//li[@data-testid='title-boxoffice-cumulativeworldwidegross']/div//span\")\n",
    "    except:\n",
    "        pass\n",
    "\n",
    "browser.close()\n",
    "\n",
    "df = pd.DataFrame(movies)\n",
    "df.to_csv(\"imdb.csv\",index=False)"
   ]
  },
  {
   "cell_type": "code",
   "execution_count": null,
   "metadata": {},
   "outputs": [
    {
     "name": "stdout",
     "output_type": "stream",
     "text": [
      "<class 'pandas.core.frame.DataFrame'>\n",
      "RangeIndex: 150 entries, 0 to 149\n",
      "Data columns (total 18 columns):\n",
      " #   Column              Non-Null Count  Dtype \n",
      "---  ------              --------------  ----- \n",
      " 0   link                150 non-null    object\n",
      " 1   rating              150 non-null    object\n",
      " 2   votes               150 non-null    object\n",
      " 3   year                150 non-null    object\n",
      " 4   duration            150 non-null    object\n",
      " 5   certificate         141 non-null    object\n",
      " 6   meta_score          141 non-null    object\n",
      " 7   title               149 non-null    object\n",
      " 8   type                149 non-null    object\n",
      " 9   popularity          149 non-null    object\n",
      " 10  genre               149 non-null    object\n",
      " 11  director            149 non-null    object\n",
      " 12  writer              149 non-null    object\n",
      " 13  stars               149 non-null    object\n",
      " 14  country             149 non-null    object\n",
      " 15  language            149 non-null    object\n",
      " 16  production_company  149 non-null    object\n",
      " 17  worldwide_gross     144 non-null    object\n",
      "dtypes: object(18)\n",
      "memory usage: 21.2+ KB\n"
     ]
    }
   ],
   "source": [
    "df.info()"
   ]
  },
  {
   "cell_type": "code",
   "execution_count": 4,
   "metadata": {},
   "outputs": [
    {
     "name": "stdout",
     "output_type": "stream",
     "text": [
      "1756\n"
     ]
    }
   ],
   "source": [
    "print(round(3511/2))"
   ]
  },
  {
   "cell_type": "code",
   "execution_count": null,
   "metadata": {},
   "outputs": [],
   "source": []
  }
 ],
 "metadata": {
  "kernelspec": {
   "display_name": "Python 3",
   "language": "python",
   "name": "python3"
  },
  "language_info": {
   "codemirror_mode": {
    "name": "ipython",
    "version": 3
   },
   "file_extension": ".py",
   "mimetype": "text/x-python",
   "name": "python",
   "nbconvert_exporter": "python",
   "pygments_lexer": "ipython3",
   "version": "3.12.1"
  }
 },
 "nbformat": 4,
 "nbformat_minor": 2
}
